{
 "cells": [
  {
   "cell_type": "markdown",
   "id": "ad5df20c",
   "metadata": {},
   "source": [
    "# 英制单位 与 SI单位转化器 -------------------------------------------- Made By Jiajun Hu\n",
    "\n",
    "### 使用方法: \n",
    "计算 $3$ ft = ? m  \n",
    "程序 3 * ft\n",
    "  \n",
    "计算 $3$ ft $\\cdot 10$ Psi   \n",
    "程序 3 * ft * 10 * psi"
   ]
  },
  {
   "cell_type": "code",
   "execution_count": 1,
   "id": "e51beb7c",
   "metadata": {},
   "outputs": [],
   "source": [
    "import sympy as sy\n",
    "from sympy import S,solve,sin,cos,tan,log\n",
    "#SI Unit Definition\n",
    "m=1\n",
    "kg=1\n",
    "s=1\n",
    "N=1\n",
    "kN=1000*N\n",
    "Pa=1\n",
    "pi=3.1415926\n",
    "g=9.81*m/s/s\n",
    "w=1\n",
    "\n",
    "cm = 0.01\n",
    "mm = 0.001\n",
    "min= 60*s\n",
    "hr = 60*min\n",
    "ml=0.000001*m*m*m\n",
    "\n",
    "ft   = 0.3048*m        #英尺\n",
    "inch = 0.0254*m        #英寸\n",
    "\n",
    "mph=0.44704*m/s        #英里/小时\n",
    " \n",
    "lb   = 0.45359237*kg   #磅\n",
    "lbm  = lb              #磅\n",
    "lbf  = 4.44822162*N    #磅力\n",
    "slug = 14.59*kg        #Slug\n",
    "gal  = 0.00454609*m**3 #加仑\n",
    "hp   = 745.699872*w    #一匹马力\n",
    "\n",
    "psi = 6.895*1000*Pa\n",
    "bar = 100000*Pa\n",
    "atm = 101325*Pa        #大气压\n",
    "\n",
    "def wendu(temp):\n",
    "    value=''\n",
    "    for i in temp:\n",
    "        if i not in '0123456789.':\n",
    "            break\n",
    "        value=value+i\n",
    "    value=float(value)\n",
    "\n",
    "    if temp[-1] in 'Ff':\n",
    "        return ((value-32)*5/9)+273.5\n",
    "    if temp[-1] in 'Cc':\n",
    "        return (value)+273.5\n",
    "\n",
    "def quzheng(x):\n",
    "    return int(x*100+0.5)/100"
   ]
  },
  {
   "cell_type": "code",
   "execution_count": 7,
   "id": "4027189c",
   "metadata": {},
   "outputs": [
    {
     "name": "stdout",
     "output_type": "stream",
     "text": [
      "165f\n",
      "73.88888888888889\n"
     ]
    }
   ],
   "source": [
    "#℃与℉转化\n",
    "temp=str(input())\n",
    "value=''\n",
    "for i in temp:\n",
    "    if i not in '0123456789.':\n",
    "        break\n",
    "    value=value+i\n",
    "value=float(value)\n",
    "\n",
    "if temp[-1] in 'Ff':\n",
    "    print((value-32)*5/9)\n",
    "if temp[-1] in 'Cc':\n",
    "    print(value*9/5+32)"
   ]
  }
 ],
 "metadata": {
  "kernelspec": {
   "display_name": "Python 3 (ipykernel)",
   "language": "python",
   "name": "python3"
  },
  "language_info": {
   "codemirror_mode": {
    "name": "ipython",
    "version": 3
   },
   "file_extension": ".py",
   "mimetype": "text/x-python",
   "name": "python",
   "nbconvert_exporter": "python",
   "pygments_lexer": "ipython3",
   "version": "3.9.12"
  }
 },
 "nbformat": 4,
 "nbformat_minor": 5
}
